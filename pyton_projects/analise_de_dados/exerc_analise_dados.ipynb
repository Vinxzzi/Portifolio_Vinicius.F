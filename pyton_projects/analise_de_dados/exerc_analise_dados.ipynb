{
 "cells": [
  {
   "cell_type": "code",
   "execution_count": null,
   "metadata": {
    "scrolled": true
   },
   "outputs": [],
   "source": [
    "import pandas as pd\n",
    "\n",
    "tabela=pd.read_csv(\"telecom_users.csv\")\n",
    "display(tabela)"
   ]
  },
  {
   "cell_type": "code",
   "execution_count": null,
   "metadata": {
    "scrolled": true
   },
   "outputs": [],
   "source": [
    "tabela=tabela.drop(\"Codigo\", axis=1)\n",
    "display(tabela)"
   ]
  },
  {
   "cell_type": "code",
   "execution_count": null,
   "metadata": {
    "scrolled": true
   },
   "outputs": [],
   "source": [
    "print(tabela.info())"
   ]
  },
  {
   "cell_type": "code",
   "execution_count": null,
   "metadata": {
    "scrolled": false
   },
   "outputs": [],
   "source": [
    "tabela[\"TotalGasto\"]=pd.to_numeric(tabela[\"TotalGasto\"], errors=\"coerce\")\n",
    "print(tabela.info())"
   ]
  },
  {
   "cell_type": "code",
   "execution_count": null,
   "metadata": {
    "scrolled": true
   },
   "outputs": [],
   "source": [
    "tabela=tabela.dropna(how=\"all\", axis=1)\n",
    "tabela=tabela.dropna(how=\"any\", axis=0)\n",
    "display(tabela)"
   ]
  },
  {
   "cell_type": "code",
   "execution_count": null,
   "metadata": {},
   "outputs": [],
   "source": [
    "print(tabela[\"Churn\"].value_counts())\n"
   ]
  },
  {
   "cell_type": "code",
   "execution_count": null,
   "metadata": {
    "scrolled": true
   },
   "outputs": [],
   "source": [
    "!pip install plotly\n"
   ]
  },
  {
   "cell_type": "code",
   "execution_count": null,
   "metadata": {
    "scrolled": true
   },
   "outputs": [],
   "source": [
    "import plotly.express as px\n",
    "\n",
    "for coluna in tabela.columns:\n",
    "    grafico= px.histogram(tabela, x=coluna, color=\"Churn\", text_auto=True)\n",
    "    grafico.show()"
   ]
  },
  {
   "cell_type": "markdown",
   "metadata": {},
   "source": [
    "### Conclusões e Ações"
   ]
  },
  {
   "cell_type": "markdown",
   "metadata": {},
   "source": [
    "Escreva aqui suas conclusões:"
   ]
  },
  {
   "cell_type": "code",
   "execution_count": null,
   "metadata": {},
   "outputs": [],
   "source": [
    "# Tipos de Clientes que mais cancelam :\n",
    "    # - As pessoas que tem menos tempo como clientes, \n",
    "    # - Os clientes que tem serviço de internet fibra \n",
    "    # - Os clientes que nao tem servico de seguranca online\n",
    "    # - Clientes que nao apresentam servico de backup online \n",
    "    # - Clientes que nao tem servico de suporte tecnico\n",
    "    # - Clientes que apresentam ou nao servico de streaming, mas que tem internet\n",
    "    # - Clientes que apresentam ou nao servico de Filmes , mas que tem internet\n",
    "    # - Clientes que apresentam contrato mensal]\n",
    "    # - Clientes com Fatura digital\n",
    "    # - Clientes com forma de pagamento em Boleto eletronico\n",
    "    # - Clientes com Valor mensal entre 68 e 100 reais\n",
    "    # Cliente com total gasto baixo entre 0-1500 reais"
   ]
  }
 ],
 "metadata": {
  "kernelspec": {
   "display_name": "Python 3 (ipykernel)",
   "language": "python",
   "name": "python3"
  },
  "language_info": {
   "codemirror_mode": {
    "name": "ipython",
    "version": 3
   },
   "file_extension": ".py",
   "mimetype": "text/x-python",
   "name": "python",
   "nbconvert_exporter": "python",
   "pygments_lexer": "ipython3",
   "version": "3.9.12"
  }
 },
 "nbformat": 4,
 "nbformat_minor": 4
}

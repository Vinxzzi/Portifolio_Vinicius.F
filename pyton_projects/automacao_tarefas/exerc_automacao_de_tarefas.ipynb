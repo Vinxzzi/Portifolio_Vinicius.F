{
 "cells": [
  {
   "cell_type": "code",
   "execution_count": 8,
   "metadata": {
    "scrolled": false
   },
   "outputs": [],
   "source": [
    "\n",
    "import pyautogui as py\n",
    "import pyperclip \n",
    "import time \n",
    "import pandas as pd\n",
    "py.PAUSE=1\n",
    "#entrar no navegador\n",
    "py.hotkey(\"ctrl\", \"t\")\n",
    "\n",
    "#pesquisar o link e entrar no site\n",
    "pyperclip.copy(\"https://drive.google.com/drive/folders/149xknr9JvrlEnhNWO49zPcw0PW5icxga?usp=sharing\")\n",
    "py.hotkey(\"ctrl\",\"v\")\n",
    "\n",
    "py.press(\"enter\")\n",
    "\n",
    "#entrar no arquivo com o banco de dados\n",
    "time.sleep(5)\n",
    "py.click(x=826, y=296, clicks=2)\n",
    "time.sleep(10)\n",
    "\n",
    "#baixar a base de dados\n",
    "py.click(x=587, y=312)\n",
    "py.click(x=1542, y=192)\n",
    "py.click(x=1816, y=109)\n",
    "\n",
    "\n",
    "\n",
    "\n",
    "time.sleep(6)\n",
    "\n",
    "#importar base para o python\n",
    "\n",
    "\n",
    "\n",
    "#enviar por email\n",
    "  #- entrar no email\n",
    "\n",
    "\n",
    "#abrir aba de escrever email\n"
   ]
  },
  {
   "cell_type": "code",
   "execution_count": 9,
   "metadata": {},
   "outputs": [],
   "source": [
    "tabela= pd.read_excel(r\"area de localidade do arquivo\")\n",
    "\n",
    "\n",
    "faturamento= tabela[\"Valor Final\"].sum()\n",
    "quantidade = tabela[\"Quantidade\"].sum()\n",
    "\n"
   ]
  },
  {
   "cell_type": "code",
   "execution_count": 10,
   "metadata": {
    "scrolled": false
   },
   "outputs": [],
   "source": [
    "import pyautogui as py\n",
    "import pyperclip \n",
    "import time \n",
    "import pandas as pd\n",
    "py.PAUSE=1\n",
    "py.hotkey(\"ctrl\",\"t\")\n",
    "pyperclip.copy(\"https://mail.google.com/mail/u/0/?tab=rm&ogbl#inbox\")\n",
    "\n",
    "py.hotkey(\"ctrl\",\"v\")\n",
    "py.press(\"enter\")\n",
    "time.sleep(5)\n",
    "py.click(x=187, y=207)\n",
    "\n",
    "pyperclip.copy(\" nome do email")\n",
    "py.hotkey(\"ctrl\",\"v\")\n",
    "py.press(\"tab\")\n",
    "py.write(\"Envio de relatorio\")\n",
    "py.press(\"tab\")\n",
    "\n",
    "\n",
    "\n",
    "texto=f\"\"\"\n",
    "Boa, Sou vinicius\n",
    "Este é o relatorio de valores pedidos:\n",
    " -Faturamento:R$ {faturamento}\n",
    " -Quantidade de Produtos: {quantidade}\n",
    "Obrigado e um bom dia!\n",
    "\n",
    "\n",
    "\"\"\"\n",
    "\n",
    "\n",
    "pyperclip.copy(texto)\n",
    "py.hotkey(\"ctrl\",\"v\")\n",
    "py.press(\"tab\")\n",
    "\n",
    "py.press(\"enter\")\n"
   ]
  }
 ],
 "metadata": {
  "kernelspec": {
   "display_name": "Python 3 (ipykernel)",
   "language": "python",
   "name": "python3"
  },
  "language_info": {
   "codemirror_mode": {
    "name": "ipython",
    "version": 3
   },
   "file_extension": ".py",
   "mimetype": "text/x-python",
   "name": "python",
   "nbconvert_exporter": "python",
   "pygments_lexer": "ipython3",
   "version": "3.9.12"
  }
 },
 "nbformat": 4,
 "nbformat_minor": 4
}
